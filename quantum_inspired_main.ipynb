{
  "cells": [
    {
      "cell_type": "code",
      "execution_count": null,
      "metadata": {},
      "outputs": [
        {
          "name": "stdout",
          "output_type": "stream",
          "text": [
            "Using device: cpu\n",
            "Loaded cfg: {'model': 'SE3ManiNet', 'device': 'cpu', 'demo_dir': 'data/demos', 'exp_name': 'mug', 'data_aug': True, 'aug_methods': ['downsample_table', 'color_jitter', 'hsv_transform', 'random_dropping_color'], 'ref_point': 'gt', 'random_drop': True, 'draw_pcd': False, 'mask_part': True, 'train_batch_size': 1, 'test_batch_size': 1, 'train_demo_ratio': 0.8, 'lr': 0.0005, 'epoch': 500, 'distance_threshold': 0.16, 'pos_warmup_epoch': 1, 'voxel_size': 0.01, 'radius_threshold': 0.07, 'feature_point_radius': 0.02}\n",
            "Dataset length: 9\n",
            "Param count: 0\n",
            "ERROR: No parameters found in the model!\n"
          ]
        }
      ],
      "source": []
    }
  ],
  "metadata": {
    "kernelspec": {
      "display_name": "venv",
      "language": "python",
      "name": "python3"
    },
    "language_info": {
      "name": "python",
      "version": "3.11.9"
    },
    "name": "BulletproofQuantumModel"
  },
  "nbformat": 4,
  "nbformat_minor": 4
}
