{
 "cells": [
  {
   "cell_type": "code",
   "execution_count": 1,
   "id": "d339b32b-da6c-4ae5-9f32-c084095c353b",
   "metadata": {},
   "outputs": [],
   "source": [
    "import sys\n",
    "# caution: path[0] is reserved for script path (or '' in REPL)\n",
    "sys.path.insert(1, '/home/saumya/Desktop/Equivariant inc/RiEMann/QCNN w/QCNN/QCNN')\n",
    "sys.path.insert(1, '/home/saumya/Desktop/Equivariant inc/RiEMann/QCNN w/QCNN/QCNN/Result')"
   ]
  },
  {
   "cell_type": "code",
   "execution_count": 2,
   "id": "53f9664e-78c4-4580-ad99-c559a248f22e",
   "metadata": {},
   "outputs": [
    {
     "name": "stdout",
     "output_type": "stream",
     "text": [
      "0.5.2\n"
     ]
    }
   ],
   "source": [
    "import jax\n",
    "\n",
    "print(jax.__version__) \n"
   ]
  },
  {
   "cell_type": "code",
   "execution_count": 3,
   "id": "4b5b2e8a-ccab-4d16-99f6-a54e6fb46f00",
   "metadata": {},
   "outputs": [],
   "source": [
    "import data\n",
    "#import Training\n",
    "#import QCNN_circuit\n",
    "#import Hierarchical_circuit\n",
    "import numpy as np"
   ]
  },
  {
   "cell_type": "code",
   "execution_count": null,
   "id": "d59b4685-42c5-4847-81c4-07c2ac5068d4",
   "metadata": {},
   "outputs": [],
   "source": []
  },
  {
   "cell_type": "code",
   "execution_count": null,
   "id": "819406d7-0dcd-4a61-ad8a-f9230aa81c11",
   "metadata": {},
   "outputs": [],
   "source": []
  },
  {
   "cell_type": "code",
   "execution_count": 4,
   "id": "b75960ec-8c13-4f25-9339-8a45aa5d2f19",
   "metadata": {},
   "outputs": [
    {
     "ename": "ModuleNotFoundError",
     "evalue": "No module named 'tensorflow'",
     "output_type": "error",
     "traceback": [
      "\u001b[31m---------------------------------------------------------------------------\u001b[39m",
      "\u001b[31mModuleNotFoundError\u001b[39m                       Traceback (most recent call last)",
      "\u001b[36mCell\u001b[39m\u001b[36m \u001b[39m\u001b[32mIn[4]\u001b[39m\u001b[32m, line 2\u001b[39m\n\u001b[32m      1\u001b[39m \u001b[38;5;28;01mimport\u001b[39;00m\u001b[38;5;250m \u001b[39m\u001b[34;01mnumpy\u001b[39;00m\u001b[38;5;250m \u001b[39m\u001b[38;5;28;01mas\u001b[39;00m\u001b[38;5;250m \u001b[39m\u001b[34;01mnp\u001b[39;00m\n\u001b[32m----> \u001b[39m\u001b[32m2\u001b[39m \u001b[38;5;28;01mimport\u001b[39;00m\u001b[38;5;250m \u001b[39m\u001b[34;01mtensorflow\u001b[39;00m\u001b[38;5;250m \u001b[39m\u001b[38;5;28;01mas\u001b[39;00m\u001b[38;5;250m \u001b[39m\u001b[34;01mtf\u001b[39;00m\n\u001b[32m      3\u001b[39m \u001b[38;5;28;01mfrom\u001b[39;00m\u001b[38;5;250m \u001b[39m\u001b[34;01msklearn\u001b[39;00m\u001b[34;01m.\u001b[39;00m\u001b[34;01mdecomposition\u001b[39;00m\u001b[38;5;250m \u001b[39m\u001b[38;5;28;01mimport\u001b[39;00m PCA\n\u001b[32m      4\u001b[39m \u001b[38;5;28;01mfrom\u001b[39;00m\u001b[38;5;250m \u001b[39m\u001b[34;01mtensorflow\u001b[39;00m\u001b[34;01m.\u001b[39;00m\u001b[34;01mkeras\u001b[39;00m\u001b[34;01m.\u001b[39;00m\u001b[34;01mmodels\u001b[39;00m\u001b[38;5;250m \u001b[39m\u001b[38;5;28;01mimport\u001b[39;00m Model\n",
      "\u001b[31mModuleNotFoundError\u001b[39m: No module named 'tensorflow'"
     ]
    }
   ],
   "source": [
    "import numpy as np\n",
    "import tensorflow as tf\n",
    "from sklearn.decomposition import PCA\n",
    "from tensorflow.keras.models import Model\n",
    "from tensorflow.keras import layers, losses"
   ]
  },
  {
   "cell_type": "code",
   "execution_count": null,
   "id": "21529baf-8c0b-4463-8f57-ff4fecc521a9",
   "metadata": {},
   "outputs": [],
   "source": [
    "\"\"\"\n",
    "Here are possible combinations of benchmarking user could try.\n",
    "Unitaries: ['U_TTN', 'U_5', 'U_6', 'U_9', 'U_13', 'U_14', 'U_15', 'U_SO4', 'U_SU4', 'U_SU4_no_pooling', 'U_SU4_1D', 'U_9_1D']\n",
    "U_num_params: [2, 10, 10, 2, 6, 6, 4, 6, 15, 15, 15, 2]\n",
    "Encodings: ['resize256', 'pca8', 'autoencoder8', 'pca16-compact', 'autoencoder16-compact', 'pca32-1', 'autoencoder32-1',\n",
    "            'pca16-1', 'autoencoder16-1', 'pca30-1', 'autoencoder30-1', 'pca12-1', 'autoencoder12-1']\n",
    "dataset: 'mnist' or 'fashion_mnist'\n",
    "circuit: 'QCNN' or 'Hierarchical'\n",
    "cost_fn: 'mse' or 'cross_entropy'\n",
    "Note: when using 'mse' as cost_fn binary=\"True\" is recommended, when using 'cross_entropy' as cost_fn must be binary=\"False\".\n",
    "\"\"\"\n",
    "\n",
    "Unitaries = ['U_SU4', 'U_SU4_1D', 'U_SU4_no_pooling', 'U_9_1D']\n",
    "U_num_params = [15, 15, 15, 2]\n",
    "Encodings = ['resize256']\n",
    "dataset = 'fashion_mnist'\n",
    "classes = [0,1]\n",
    "binary = False\n",
    "cost_fn = 'cross_entropy'"
   ]
  },
  {
   "cell_type": "code",
   "execution_count": null,
   "id": "3c833f50-f163-4a99-92ae-bdf32fd76053",
   "metadata": {},
   "outputs": [],
   "source": [
    "def Encoding_to_Embedding(Encoding):\n",
    "    # Amplitude Embedding / Angle Embedding\n",
    "    if Encoding == 'resize256':\n",
    "        Embedding = 'Amplitude'\n",
    "    elif Encoding == 'pca8':\n",
    "        Embedding = 'Angle'\n",
    "    elif Encoding == 'autoencoder8':\n",
    "        Embedding = 'Angle'\n",
    "\n",
    "    # Amplitude Hybrid Embedding\n",
    "    # 4 qubit block\n",
    "    elif Encoding == 'pca32-1':\n",
    "        Embedding = 'Amplitude-Hybrid4-1'\n",
    "    elif Encoding == 'autoencoder32-1':\n",
    "        Embedding = 'Amplitude-Hybrid4-1'\n",
    "\n",
    "    elif Encoding == 'pca32-2':\n",
    "        Embedding = 'Amplitude-Hybrid4-2'\n",
    "    elif Encoding == 'autoencoder32-2':\n",
    "        Embedding = 'Amplitude-Hybrid4-2'\n",
    "\n",
    "    elif Encoding == 'pca32-3':\n",
    "        Embedding = 'Amplitude-Hybrid4-3'\n",
    "    elif Encoding == 'autoencoder32-3':\n",
    "        Embedding = 'Amplitude-Hybrid4-3'\n",
    "\n",
    "    elif Encoding == 'pca32-4':\n",
    "        Embedding = 'Amplitude-Hybrid4-4'\n",
    "    elif Encoding == 'autoencoder32-4':\n",
    "        Embedding = 'Amplitude-Hybrid4-4'\n",
    "\n",
    "    # 2 qubit block\n",
    "    elif Encoding == 'pca16-1':\n",
    "        Embedding = 'Amplitude-Hybrid2-1'\n",
    "    elif Encoding == 'autoencoder16-1':\n",
    "        Embedding = 'Amplitude-Hybrid2-1'\n",
    "\n",
    "    elif Encoding == 'pca16-2':\n",
    "        Embedding = 'Amplitude-Hybrid2-2'\n",
    "    elif Encoding == 'autoencoder16-2':\n",
    "        Embedding = 'Amplitude-Hybrid2-2'\n",
    "\n",
    "    elif Encoding == 'pca16-3':\n",
    "        Embedding = 'Amplitude-Hybrid2-3'\n",
    "    elif Encoding == 'autoencoder16-3':\n",
    "        Embedding = 'Amplitude-Hybrid2-3'\n",
    "\n",
    "    elif Encoding == 'pca16-4':\n",
    "        Embedding = 'Amplitude-Hybrid2-4'\n",
    "    elif Encoding == 'autoencoder16-4':\n",
    "        Embedding = 'Amplitude-Hybrid2-4'\n",
    "\n",
    "    # Angular HybridEmbedding\n",
    "    # 4 qubit block\n",
    "    elif Encoding == 'pca30-1':\n",
    "        Embedding = 'Angular-Hybrid4-1'\n",
    "    elif Encoding == 'autoencoder30-1':\n",
    "        Embedding = 'Angular-Hybrid4-1'\n",
    "\n",
    "    elif Encoding == 'pca30-2':\n",
    "        Embedding = 'Angular-Hybrid4-2'\n",
    "    elif Encoding == 'autoencoder30-2':\n",
    "        Embedding = 'Angular-Hybrid4-2'\n",
    "\n",
    "    elif Encoding == 'pca30-3':\n",
    "        Embedding = 'Angular-Hybrid4-3'\n",
    "    elif Encoding == 'autoencoder30-3':\n",
    "        Embedding = 'Angular-Hybrid4-3'\n",
    "\n",
    "    elif Encoding == 'pca30-4':\n",
    "        Embedding = 'Angular-Hybrid4-4'\n",
    "    elif Encoding == 'autoencoder30-4':\n",
    "        Embedding = 'Angular-Hybrid4-4'\n",
    "\n",
    "    # 2 qubit block\n",
    "    elif Encoding == 'pca12-1':\n",
    "        Embedding = 'Angular-Hybrid2-1'\n",
    "    elif Encoding == 'autoencoder12-1':\n",
    "        Embedding = 'Angular-Hybrid2-1'\n",
    "\n",
    "    elif Encoding == 'pca12-2':\n",
    "        Embedding = 'Angular-Hybrid2-2'\n",
    "    elif Encoding == 'autoencoder12-2':\n",
    "        Embedding = 'Angular-Hybrid2-2'\n",
    "\n",
    "    elif Encoding == 'pca12-3':\n",
    "        Embedding = 'Angular-Hybrid2-3'\n",
    "    elif Encoding == 'autoencoder12-3':\n",
    "        Embedding = 'Angular-Hybrid2-3'\n",
    "\n",
    "    elif Encoding == 'pca12-4':\n",
    "        Embedding = 'Angular-Hybrid2-4'\n",
    "    elif Encoding == 'autoencoder12-4':\n",
    "        Embedding = 'Angular-Hybrid2-4'\n",
    "\n",
    "    # Two Gates Compact Encoding\n",
    "    elif Encoding == 'pca16-compact':\n",
    "        Embedding = 'Angle-compact'\n",
    "    elif Encoding == 'autoencoder16-compact':\n",
    "        Embedding = 'Angle-compact'\n",
    "    return Embedding"
   ]
  },
  {
   "cell_type": "code",
   "execution_count": null,
   "id": "ee9600ce-517f-4d1c-8819-1117806869f0",
   "metadata": {},
   "outputs": [
    {
     "name": "stdout",
     "output_type": "stream",
     "text": [
      "\n",
      "\n"
     ]
    },
    {
     "name": "stderr",
     "output_type": "stream",
     "text": [
      "I0000 00:00:1741288908.174805   77974 gpu_device.cc:2022] Created device /job:localhost/replica:0/task:0/device:GPU:0 with 10142 MB memory:  -> device: 0, name: NVIDIA RTX 4000 Ada Generation Laptop GPU, pci bus id: 0000:01:00.0, compute capability: 8.9\n"
     ]
    }
   ],
   "source": [
    "i=0\n",
    "j=0\n",
    "f = open('result.txt', 'a')\n",
    "U = Unitaries[i]\n",
    "U_params = U_num_params[i]\n",
    "Encoding = Encodings[j]\n",
    "Embedding = Encoding_to_Embedding(Encoding)\n",
    "\n",
    "X_train, X_test, Y_train, Y_test = data.data_load_and_process(dataset, classes=classes,\n",
    "                                                              feature_reduction=Encoding, binary=binary)\n",
    "\n",
    "print(\"\\n\")"
   ]
  },
  {
   "cell_type": "code",
   "execution_count": null,
   "id": "e67624c6-8dc9-4748-a034-8607a71dc304",
   "metadata": {},
   "outputs": [
    {
     "data": {
      "text/plain": [
       "(12000, 256)"
      ]
     },
     "execution_count": 10,
     "metadata": {},
     "output_type": "execute_result"
    }
   ],
   "source": [
    "np.shape(X_train)"
   ]
  },
  {
   "cell_type": "code",
   "execution_count": null,
   "id": "11439b83-7cf6-487c-bcdd-01e997b02420",
   "metadata": {},
   "outputs": [
    {
     "data": {
      "text/plain": [
       "(2000, 256)"
      ]
     },
     "execution_count": 11,
     "metadata": {},
     "output_type": "execute_result"
    }
   ],
   "source": [
    "np.shape(X_test)"
   ]
  },
  {
   "cell_type": "code",
   "execution_count": null,
   "id": "eb94f733-de01-4503-9c78-ae8a0439b438",
   "metadata": {},
   "outputs": [
    {
     "ename": "ImportError",
     "evalue": "cannot import name 'bsr_array' from 'scipy.sparse' (/home/saumya/anaconda3/envs/e_lapjax/lib/python3.10/site-packages/scipy/sparse/__init__.py)",
     "output_type": "error",
     "traceback": [
      "\u001b[0;31m---------------------------------------------------------------------------\u001b[0m",
      "\u001b[0;31mImportError\u001b[0m                               Traceback (most recent call last)",
      "Cell \u001b[0;32mIn[12], line 1\u001b[0m\n\u001b[0;32m----> 1\u001b[0m \u001b[38;5;28;01mimport\u001b[39;00m \u001b[38;5;21;01mpennylane\u001b[39;00m \u001b[38;5;28;01mas\u001b[39;00m \u001b[38;5;21;01mpenl\u001b[39;00m\n",
      "File \u001b[0;32m~/anaconda3/envs/e_lapjax/lib/python3.10/site-packages/pennylane/__init__.py:153\u001b[0m\n\u001b[1;32m    150\u001b[0m \u001b[38;5;28;01mfrom\u001b[39;00m \u001b[38;5;21;01mpennylane\u001b[39;00m\u001b[38;5;21;01m.\u001b[39;00m\u001b[38;5;21;01mcompiler\u001b[39;00m \u001b[38;5;28;01mimport\u001b[39;00m qjit, while_loop, for_loop\n\u001b[1;32m    151\u001b[0m \u001b[38;5;28;01mimport\u001b[39;00m \u001b[38;5;21;01mpennylane\u001b[39;00m\u001b[38;5;21;01m.\u001b[39;00m\u001b[38;5;21;01mcompiler\u001b[39;00m\n\u001b[0;32m--> 153\u001b[0m \u001b[38;5;28;01mimport\u001b[39;00m \u001b[38;5;21;01mpennylane\u001b[39;00m\u001b[38;5;21;01m.\u001b[39;00m\u001b[38;5;21;01mdata\u001b[39;00m\n\u001b[1;32m    155\u001b[0m \u001b[38;5;28;01mimport\u001b[39;00m \u001b[38;5;21;01mpennylane\u001b[39;00m\u001b[38;5;21;01m.\u001b[39;00m\u001b[38;5;21;01mnoise\u001b[39;00m\n\u001b[1;32m    156\u001b[0m \u001b[38;5;28;01mfrom\u001b[39;00m \u001b[38;5;21;01mpennylane\u001b[39;00m\u001b[38;5;21;01m.\u001b[39;00m\u001b[38;5;21;01mnoise\u001b[39;00m \u001b[38;5;28;01mimport\u001b[39;00m NoiseModel\n",
      "File \u001b[0;32m~/anaconda3/envs/e_lapjax/lib/python3.10/site-packages/pennylane/data/__init__.py:203\u001b[0m\n\u001b[1;32m      1\u001b[0m \u001b[38;5;66;03m# Copyright 2018-2023 Xanadu Quantum Technologies Inc.\u001b[39;00m\n\u001b[1;32m      2\u001b[0m \n\u001b[1;32m      3\u001b[0m \u001b[38;5;66;03m# Licensed under the Apache License, Version 2.0 (the \"License\");\u001b[39;00m\n\u001b[0;32m   (...)\u001b[0m\n\u001b[1;32m     12\u001b[0m \u001b[38;5;66;03m# See the License for the specific language governing permissions and\u001b[39;00m\n\u001b[1;32m     13\u001b[0m \u001b[38;5;66;03m# limitations under the License.\u001b[39;00m\n\u001b[1;32m     14\u001b[0m \u001b[38;5;124;03m\"\"\"The data subpackage provides functionality to access, store and manipulate `quantum datasets <https://pennylane.ai/datasets>`_.\u001b[39;00m\n\u001b[1;32m     15\u001b[0m \n\u001b[1;32m     16\u001b[0m \u001b[38;5;124;03m.. note::\u001b[39;00m\n\u001b[0;32m   (...)\u001b[0m\n\u001b[1;32m    200\u001b[0m \n\u001b[1;32m    201\u001b[0m \u001b[38;5;124m\"\"\"\u001b[39m\n\u001b[0;32m--> 203\u001b[0m \u001b[38;5;28;01mfrom\u001b[39;00m \u001b[38;5;21;01m.\u001b[39;00m\u001b[38;5;21;01mattributes\u001b[39;00m \u001b[38;5;28;01mimport\u001b[39;00m (\n\u001b[1;32m    204\u001b[0m     DatasetArray,\n\u001b[1;32m    205\u001b[0m     DatasetDict,\n\u001b[1;32m    206\u001b[0m     DatasetJSON,\n\u001b[1;32m    207\u001b[0m     DatasetList,\n\u001b[1;32m    208\u001b[0m     DatasetMolecule,\n\u001b[1;32m    209\u001b[0m     DatasetNone,\n\u001b[1;32m    210\u001b[0m     DatasetOperator,\n\u001b[1;32m    211\u001b[0m     DatasetPyTree,\n\u001b[1;32m    212\u001b[0m     DatasetScalar,\n\u001b[1;32m    213\u001b[0m     DatasetSparseArray,\n\u001b[1;32m    214\u001b[0m     DatasetString,\n\u001b[1;32m    215\u001b[0m     DatasetTuple,\n\u001b[1;32m    216\u001b[0m )\n\u001b[1;32m    217\u001b[0m \u001b[38;5;28;01mfrom\u001b[39;00m \u001b[38;5;21;01m.\u001b[39;00m\u001b[38;5;21;01mbase\u001b[39;00m \u001b[38;5;28;01mimport\u001b[39;00m DatasetNotWriteableError\n\u001b[1;32m    218\u001b[0m \u001b[38;5;28;01mfrom\u001b[39;00m \u001b[38;5;21;01m.\u001b[39;00m\u001b[38;5;21;01mbase\u001b[39;00m\u001b[38;5;21;01m.\u001b[39;00m\u001b[38;5;21;01mattribute\u001b[39;00m \u001b[38;5;28;01mimport\u001b[39;00m AttributeInfo, DatasetAttribute, attribute\n",
      "File \u001b[0;32m~/anaconda3/envs/e_lapjax/lib/python3.10/site-packages/pennylane/data/attributes/__init__.py:25\u001b[0m\n\u001b[1;32m     23\u001b[0m \u001b[38;5;28;01mfrom\u001b[39;00m \u001b[38;5;21;01m.\u001b[39;00m\u001b[38;5;21;01mpytree\u001b[39;00m \u001b[38;5;28;01mimport\u001b[39;00m DatasetPyTree\n\u001b[1;32m     24\u001b[0m \u001b[38;5;28;01mfrom\u001b[39;00m \u001b[38;5;21;01m.\u001b[39;00m\u001b[38;5;21;01mscalar\u001b[39;00m \u001b[38;5;28;01mimport\u001b[39;00m DatasetScalar\n\u001b[0;32m---> 25\u001b[0m \u001b[38;5;28;01mfrom\u001b[39;00m \u001b[38;5;21;01m.\u001b[39;00m\u001b[38;5;21;01msparse_array\u001b[39;00m \u001b[38;5;28;01mimport\u001b[39;00m DatasetSparseArray\n\u001b[1;32m     26\u001b[0m \u001b[38;5;28;01mfrom\u001b[39;00m \u001b[38;5;21;01m.\u001b[39;00m\u001b[38;5;21;01mstring\u001b[39;00m \u001b[38;5;28;01mimport\u001b[39;00m DatasetString\n\u001b[1;32m     27\u001b[0m \u001b[38;5;28;01mfrom\u001b[39;00m \u001b[38;5;21;01m.\u001b[39;00m\u001b[38;5;21;01mtuple\u001b[39;00m \u001b[38;5;28;01mimport\u001b[39;00m DatasetTuple\n",
      "File \u001b[0;32m~/anaconda3/envs/e_lapjax/lib/python3.10/site-packages/pennylane/data/attributes/sparse_array.py:20\u001b[0m\n\u001b[1;32m     17\u001b[0m \u001b[38;5;28;01mfrom\u001b[39;00m \u001b[38;5;21;01mtyping\u001b[39;00m \u001b[38;5;28;01mimport\u001b[39;00m Generic, Type, TypeVar, Union, cast\n\u001b[1;32m     19\u001b[0m \u001b[38;5;28;01mimport\u001b[39;00m \u001b[38;5;21;01mnumpy\u001b[39;00m \u001b[38;5;28;01mas\u001b[39;00m \u001b[38;5;21;01mnp\u001b[39;00m\n\u001b[0;32m---> 20\u001b[0m \u001b[38;5;28;01mfrom\u001b[39;00m \u001b[38;5;21;01mscipy\u001b[39;00m\u001b[38;5;21;01m.\u001b[39;00m\u001b[38;5;21;01msparse\u001b[39;00m \u001b[38;5;28;01mimport\u001b[39;00m (\n\u001b[1;32m     21\u001b[0m     bsr_array,\n\u001b[1;32m     22\u001b[0m     bsr_matrix,\n\u001b[1;32m     23\u001b[0m     coo_array,\n\u001b[1;32m     24\u001b[0m     coo_matrix,\n\u001b[1;32m     25\u001b[0m     csc_array,\n\u001b[1;32m     26\u001b[0m     csc_matrix,\n\u001b[1;32m     27\u001b[0m     csr_array,\n\u001b[1;32m     28\u001b[0m     csr_matrix,\n\u001b[1;32m     29\u001b[0m     dia_array,\n\u001b[1;32m     30\u001b[0m     dia_matrix,\n\u001b[1;32m     31\u001b[0m     dok_array,\n\u001b[1;32m     32\u001b[0m     dok_matrix,\n\u001b[1;32m     33\u001b[0m     lil_array,\n\u001b[1;32m     34\u001b[0m     lil_matrix,\n\u001b[1;32m     35\u001b[0m )\n\u001b[1;32m     37\u001b[0m \u001b[38;5;28;01mfrom\u001b[39;00m \u001b[38;5;21;01mpennylane\u001b[39;00m\u001b[38;5;21;01m.\u001b[39;00m\u001b[38;5;21;01mdata\u001b[39;00m\u001b[38;5;21;01m.\u001b[39;00m\u001b[38;5;21;01mbase\u001b[39;00m\u001b[38;5;21;01m.\u001b[39;00m\u001b[38;5;21;01mattribute\u001b[39;00m \u001b[38;5;28;01mimport\u001b[39;00m AttributeInfo, DatasetAttribute\n\u001b[1;32m     38\u001b[0m \u001b[38;5;28;01mfrom\u001b[39;00m \u001b[38;5;21;01mpennylane\u001b[39;00m\u001b[38;5;21;01m.\u001b[39;00m\u001b[38;5;21;01mdata\u001b[39;00m\u001b[38;5;21;01m.\u001b[39;00m\u001b[38;5;21;01mbase\u001b[39;00m\u001b[38;5;21;01m.\u001b[39;00m\u001b[38;5;21;01mhdf5\u001b[39;00m \u001b[38;5;28;01mimport\u001b[39;00m HDF5Group\n",
      "\u001b[0;31mImportError\u001b[0m: cannot import name 'bsr_array' from 'scipy.sparse' (/home/saumya/anaconda3/envs/e_lapjax/lib/python3.10/site-packages/scipy/sparse/__init__.py)"
     ]
    }
   ],
   "source": [
    "import pennylane as penl\n",
    "#import unitary\n",
    "#import embedding"
   ]
  },
  {
   "cell_type": "code",
   "execution_count": null,
   "id": "3403583f-0c4e-42e7-8415-3a35ffbc5425",
   "metadata": {},
   "outputs": [],
   "source": []
  },
  {
   "cell_type": "code",
   "execution_count": null,
   "id": "3e9ca6ba-aeb0-414b-ac97-e593873bf2d7",
   "metadata": {},
   "outputs": [],
   "source": [
    "dev = qml.device('default.qubit', wires = 8)\n",
    "@qml.qnode(dev)\n",
    "def QCNN(X, params, U, U_params, embedding_type='Amplitude', cost_fn='cross_entropy'):\n",
    "\n",
    "\n",
    "    # Data Embedding\n",
    "    embedding.data_embedding(X, embedding_type=embedding_type)\n",
    "\n",
    "    # Quantum Convolutional Neural Network\n",
    "    if U == 'U_TTN':\n",
    "        QCNN_structure(unitary.U_TTN, params, U_params)\n",
    "    elif U == 'U_5':\n",
    "        QCNN_structure(unitary.U_5, params, U_params)\n",
    "    elif U == 'U_6':\n",
    "        QCNN_structure(unitary.U_6, params, U_params)\n",
    "    elif U == 'U_9':\n",
    "        QCNN_structure(unitary.U_9, params, U_params)\n",
    "    elif U == 'U_13':\n",
    "        QCNN_structure(unitary.U_13, params, U_params)\n",
    "    elif U == 'U_14':\n",
    "        QCNN_structure(unitary.U_14, params, U_params)\n",
    "    elif U == 'U_15':\n",
    "        QCNN_structure(unitary.U_15, params, U_params)\n",
    "    elif U == 'U_SO4':\n",
    "        QCNN_structure(unitary.U_SO4, params, U_params)\n",
    "    elif U == 'U_SU4':\n",
    "        QCNN_structure(unitary.U_SU4, params, U_params)\n",
    "    elif U == 'U_SU4_no_pooling':\n",
    "        QCNN_structure_without_pooling(unitary.U_SU4, params, U_params)\n",
    "    elif U == 'U_SU4_1D':\n",
    "        QCNN_1D_circuit(unitary.U_SU4, params, U_params)\n",
    "    elif U == 'U_9_1D':\n",
    "        QCNN_1D_circuit(unitary.U_9, params, U_params)\n",
    "    else:\n",
    "        print(\"Invalid Unitary Ansatze\")\n",
    "        return False\n",
    "\n",
    "    if cost_fn == 'mse':\n",
    "        result = qml.expval(qml.PauliZ(4))\n",
    "    elif cost_fn == 'cross_entropy':\n",
    "        result = qml.probs(wires=4)\n",
    "    return result"
   ]
  },
  {
   "cell_type": "code",
   "execution_count": null,
   "id": "6d27529e-8017-4e00-93a2-8c41ea302ccc",
   "metadata": {},
   "outputs": [],
   "source": [
    "predictions = [QCNN_circuit.QCNN(x, trained_params, U, U_params, Embedding, cost_fn) for x in X_test]"
   ]
  },
  {
   "cell_type": "code",
   "execution_count": null,
   "id": "2b7841a6-f252-4988-8922-ca4b4bdd9eee",
   "metadata": {},
   "outputs": [],
   "source": []
  },
  {
   "cell_type": "code",
   "execution_count": null,
   "id": "c95784e7-bf58-49e2-a7bc-4fccf5d46ecb",
   "metadata": {},
   "outputs": [],
   "source": []
  },
  {
   "cell_type": "code",
   "execution_count": null,
   "id": "65b22737-803c-4ca1-b8c5-b4d456d460df",
   "metadata": {},
   "outputs": [],
   "source": []
  },
  {
   "cell_type": "code",
   "execution_count": null,
   "id": "3ea32a2e-628b-4567-bc6f-19d69069f14a",
   "metadata": {},
   "outputs": [],
   "source": []
  },
  {
   "cell_type": "code",
   "execution_count": null,
   "id": "e0792760-b4e5-42dc-836a-e46e7a348439",
   "metadata": {},
   "outputs": [],
   "source": []
  },
  {
   "cell_type": "code",
   "execution_count": null,
   "id": "a643000f-9b4d-4568-9f0d-ac3725eb7d00",
   "metadata": {},
   "outputs": [],
   "source": []
  },
  {
   "cell_type": "code",
   "execution_count": null,
   "id": "d100e13f-dade-495f-b366-4132264830d9",
   "metadata": {},
   "outputs": [],
   "source": []
  },
  {
   "cell_type": "code",
   "execution_count": null,
   "id": "3765ffe2-c5c2-42a6-b273-9903b7aedc7b",
   "metadata": {},
   "outputs": [],
   "source": []
  },
  {
   "cell_type": "code",
   "execution_count": null,
   "id": "2f8058ae-08da-4899-89c6-89b8606715d4",
   "metadata": {},
   "outputs": [],
   "source": []
  }
 ],
 "metadata": {
  "kernelspec": {
   "display_name": "venv",
   "language": "python",
   "name": "python3"
  },
  "language_info": {
   "codemirror_mode": {
    "name": "ipython",
    "version": 3
   },
   "file_extension": ".py",
   "mimetype": "text/x-python",
   "name": "python",
   "nbconvert_exporter": "python",
   "pygments_lexer": "ipython3",
   "version": "3.11.9"
  }
 },
 "nbformat": 4,
 "nbformat_minor": 5
}
