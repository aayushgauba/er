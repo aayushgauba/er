{
 "cells": [
  {
   "cell_type": "code",
   "execution_count": 37,
   "id": "094c7e7a-3d2f-4285-a35e-b0a5bde63bee",
   "metadata": {},
   "outputs": [],
   "source": [
    "import numpy as np"
   ]
  },
  {
   "cell_type": "code",
   "execution_count": 38,
   "id": "3a271f10-fb04-4cea-b0eb-231b670635b4",
   "metadata": {},
   "outputs": [],
   "source": [
    "with np.load('demo.npz') as data:\n",
    "    axes = data['axes']\n",
    "    rgb = data['rgb']\n",
    "    seg_center = data['seg_center']\n",
    "    xyz = data['xyz']"
   ]
  },
  {
   "cell_type": "code",
   "execution_count": 39,
   "id": "51ffc2db-5ddd-439a-92fa-9cb44cfa0820",
   "metadata": {},
   "outputs": [
    {
     "data": {
      "text/plain": [
       "(10, 20, 9)"
      ]
     },
     "execution_count": 39,
     "metadata": {},
     "output_type": "execute_result"
    }
   ],
   "source": [
    "np.shape(axes)"
   ]
  },
  {
   "cell_type": "code",
   "execution_count": 40,
   "id": "96a42a8c-6491-47fa-a07e-2b48bec0236b",
   "metadata": {},
   "outputs": [
    {
     "data": {
      "text/plain": [
       "(10, 20, 8192, 3)"
      ]
     },
     "execution_count": 40,
     "metadata": {},
     "output_type": "execute_result"
    }
   ],
   "source": [
    "np.shape(rgb)"
   ]
  },
  {
   "cell_type": "code",
   "execution_count": 41,
   "id": "0ed11acc-e200-497f-a674-6e48ddfa7b54",
   "metadata": {},
   "outputs": [
    {
     "data": {
      "text/plain": [
       "(10, 20, 3)"
      ]
     },
     "execution_count": 41,
     "metadata": {},
     "output_type": "execute_result"
    }
   ],
   "source": [
    "np.shape(seg_center)"
   ]
  },
  {
   "cell_type": "code",
   "execution_count": 42,
   "id": "056e60af-19ea-4840-9d9f-0ce126535fa3",
   "metadata": {},
   "outputs": [
    {
     "data": {
      "text/plain": [
       "(10, 20, 8192, 3)"
      ]
     },
     "execution_count": 42,
     "metadata": {},
     "output_type": "execute_result"
    }
   ],
   "source": [
    "np.shape(xyz)"
   ]
  },
  {
   "cell_type": "code",
   "execution_count": 43,
   "id": "a883ae80-fb79-47d3-afd5-b95addbbdbc6",
   "metadata": {},
   "outputs": [],
   "source": [
    "n_axes = np.copy(axes)\n",
    "n_rgb = np.copy(rgb)\n",
    "n_seg_center = np.copy(seg_center)\n",
    "n_xyz = np.copy(xyz)"
   ]
  },
  {
   "cell_type": "code",
   "execution_count": null,
   "id": "454c06b4-28ec-4af1-ab82-7094172ac3b5",
   "metadata": {},
   "outputs": [],
   "source": []
  },
  {
   "cell_type": "code",
   "execution_count": 44,
   "id": "50f26d6b-c535-4327-bd82-1be7024d6634",
   "metadata": {},
   "outputs": [],
   "source": [
    "dispen1 = np.arange(3,10,1)"
   ]
  },
  {
   "cell_type": "code",
   "execution_count": 45,
   "id": "d8030004-96bd-445e-a9b1-eb0e46aed539",
   "metadata": {},
   "outputs": [
    {
     "data": {
      "text/plain": [
       "array([3, 4, 5, 6, 7, 8, 9])"
      ]
     },
     "execution_count": 45,
     "metadata": {},
     "output_type": "execute_result"
    }
   ],
   "source": [
    "dispen1"
   ]
  },
  {
   "cell_type": "code",
   "execution_count": 46,
   "id": "a6ff01bd-9613-4985-9ded-bd379756466a",
   "metadata": {},
   "outputs": [],
   "source": [
    "n_axes = np.delete(n_axes, dispen1, axis=0)\n",
    "n_rgb = np.delete(n_rgb, dispen1, axis=0)\n",
    "n_seg_center = np.delete(n_seg_center, dispen1, axis=0)\n",
    "n_xyz = np.delete(n_xyz, dispen1, axis=0)"
   ]
  },
  {
   "cell_type": "code",
   "execution_count": 47,
   "id": "4e665cc0-6540-44a7-8594-77b94fcf4e51",
   "metadata": {},
   "outputs": [
    {
     "data": {
      "text/plain": [
       "(3, 20, 9)"
      ]
     },
     "execution_count": 47,
     "metadata": {},
     "output_type": "execute_result"
    }
   ],
   "source": [
    "np.shape(n_axes)"
   ]
  },
  {
   "cell_type": "code",
   "execution_count": 48,
   "id": "c37c514b-3f35-4e8b-9ca8-08dab5ab7617",
   "metadata": {},
   "outputs": [
    {
     "data": {
      "text/plain": [
       "(3, 20, 8192, 3)"
      ]
     },
     "execution_count": 48,
     "metadata": {},
     "output_type": "execute_result"
    }
   ],
   "source": [
    "np.shape(n_rgb)"
   ]
  },
  {
   "cell_type": "code",
   "execution_count": 49,
   "id": "02ab4932-abec-4d49-81b7-48506b520e73",
   "metadata": {},
   "outputs": [
    {
     "data": {
      "text/plain": [
       "(3, 20, 3)"
      ]
     },
     "execution_count": 49,
     "metadata": {},
     "output_type": "execute_result"
    }
   ],
   "source": [
    "np.shape(n_seg_center)"
   ]
  },
  {
   "cell_type": "code",
   "execution_count": 50,
   "id": "31555d1c-ff8d-4e49-9650-1b3ba1312edb",
   "metadata": {},
   "outputs": [
    {
     "data": {
      "text/plain": [
       "(3, 20, 8192, 3)"
      ]
     },
     "execution_count": 50,
     "metadata": {},
     "output_type": "execute_result"
    }
   ],
   "source": [
    "np.shape(n_xyz)"
   ]
  },
  {
   "cell_type": "code",
   "execution_count": null,
   "id": "d459e78a-691d-48b9-b699-0acb0c881056",
   "metadata": {},
   "outputs": [],
   "source": []
  },
  {
   "cell_type": "code",
   "execution_count": 51,
   "id": "0ff7dace-d95e-4b17-b18e-2e55a6fae8dc",
   "metadata": {},
   "outputs": [],
   "source": [
    "dispen2 = np.arange(3,20,1)"
   ]
  },
  {
   "cell_type": "code",
   "execution_count": 52,
   "id": "d83fe9a5-7100-4963-b841-552208779921",
   "metadata": {},
   "outputs": [],
   "source": [
    "n_axes = np.delete(n_axes, dispen2, axis=1)\n",
    "n_rgb = np.delete(n_rgb, dispen2, axis=1)\n",
    "n_seg_center = np.delete(n_seg_center, dispen2, axis=1)\n",
    "n_xyz = np.delete(n_xyz, dispen2, axis=1)"
   ]
  },
  {
   "cell_type": "code",
   "execution_count": 53,
   "id": "33bcb6f1-591d-4d6e-a46d-ec0a29f5ef4b",
   "metadata": {},
   "outputs": [
    {
     "data": {
      "text/plain": [
       "(3, 3, 9)"
      ]
     },
     "execution_count": 53,
     "metadata": {},
     "output_type": "execute_result"
    }
   ],
   "source": [
    "np.shape(n_axes)"
   ]
  },
  {
   "cell_type": "code",
   "execution_count": 54,
   "id": "d082560c-17b9-46eb-995d-d929d197032b",
   "metadata": {},
   "outputs": [
    {
     "data": {
      "text/plain": [
       "(3, 3, 8192, 3)"
      ]
     },
     "execution_count": 54,
     "metadata": {},
     "output_type": "execute_result"
    }
   ],
   "source": [
    "np.shape(n_rgb)"
   ]
  },
  {
   "cell_type": "code",
   "execution_count": 55,
   "id": "3e915c36-1017-4376-ae06-3c3a086e3378",
   "metadata": {},
   "outputs": [
    {
     "data": {
      "text/plain": [
       "(3, 3, 3)"
      ]
     },
     "execution_count": 55,
     "metadata": {},
     "output_type": "execute_result"
    }
   ],
   "source": [
    "np.shape(n_seg_center)"
   ]
  },
  {
   "cell_type": "code",
   "execution_count": 56,
   "id": "8e030d72-e026-4aa2-b214-f8387f3dfab0",
   "metadata": {},
   "outputs": [
    {
     "data": {
      "text/plain": [
       "(3, 3, 8192, 3)"
      ]
     },
     "execution_count": 56,
     "metadata": {},
     "output_type": "execute_result"
    }
   ],
   "source": [
    "np.shape(n_xyz)"
   ]
  },
  {
   "cell_type": "code",
   "execution_count": null,
   "id": "9fc7db9c-0786-4ee9-ab17-d013e7049f7f",
   "metadata": {},
   "outputs": [],
   "source": []
  },
  {
   "cell_type": "code",
   "execution_count": null,
   "id": "2f983982-5e82-4238-9318-88b88468b850",
   "metadata": {},
   "outputs": [],
   "source": []
  },
  {
   "cell_type": "code",
   "execution_count": 57,
   "id": "012331ee-cf9d-42f1-b109-4f1204d61d2f",
   "metadata": {},
   "outputs": [],
   "source": [
    "dispen3 = np.arange(128,8192,1)"
   ]
  },
  {
   "cell_type": "code",
   "execution_count": 58,
   "id": "90caca7e-d409-4aef-b332-f809648c7abc",
   "metadata": {},
   "outputs": [],
   "source": [
    "n_rgb = np.delete(n_rgb, dispen3, axis=2)\n",
    "n_xyz = np.delete(n_xyz, dispen3, axis=2)"
   ]
  },
  {
   "cell_type": "code",
   "execution_count": 59,
   "id": "c910cd4a-8b15-4e4b-bbe7-ae1384bda457",
   "metadata": {},
   "outputs": [
    {
     "data": {
      "text/plain": [
       "(3, 3, 9)"
      ]
     },
     "execution_count": 59,
     "metadata": {},
     "output_type": "execute_result"
    }
   ],
   "source": [
    "np.shape(n_axes)"
   ]
  },
  {
   "cell_type": "code",
   "execution_count": 60,
   "id": "0b16fca4-a998-44db-82ab-59a0fe0f5f77",
   "metadata": {},
   "outputs": [
    {
     "data": {
      "text/plain": [
       "(3, 3, 128, 3)"
      ]
     },
     "execution_count": 60,
     "metadata": {},
     "output_type": "execute_result"
    }
   ],
   "source": [
    "np.shape(n_rgb)"
   ]
  },
  {
   "cell_type": "code",
   "execution_count": 61,
   "id": "348f8b80-b0f6-4b2d-87e4-7b9aa82f7109",
   "metadata": {},
   "outputs": [
    {
     "data": {
      "text/plain": [
       "(3, 3, 3)"
      ]
     },
     "execution_count": 61,
     "metadata": {},
     "output_type": "execute_result"
    }
   ],
   "source": [
    "np.shape(n_seg_center)"
   ]
  },
  {
   "cell_type": "code",
   "execution_count": 62,
   "id": "363bd99d-274d-439d-ba42-ae2ba3fc949e",
   "metadata": {},
   "outputs": [
    {
     "data": {
      "text/plain": [
       "(3, 3, 128, 3)"
      ]
     },
     "execution_count": 62,
     "metadata": {},
     "output_type": "execute_result"
    }
   ],
   "source": [
    "np.shape(n_xyz)"
   ]
  },
  {
   "cell_type": "code",
   "execution_count": null,
   "id": "3c9b4031-ec6f-453e-a2b8-cdb23c78781d",
   "metadata": {},
   "outputs": [],
   "source": []
  },
  {
   "cell_type": "code",
   "execution_count": null,
   "id": "81346560-a04d-484e-9899-66083b147403",
   "metadata": {},
   "outputs": [],
   "source": []
  },
  {
   "cell_type": "code",
   "execution_count": 63,
   "id": "2402d29f-a4d0-4fe9-a46d-9bb8e36e4995",
   "metadata": {},
   "outputs": [],
   "source": [
    "kwds = {\"axes\":n_axes, \"rgb\":n_rgb, \"seg_center\":n_seg_center, \"xyz\":n_xyz}"
   ]
  },
  {
   "cell_type": "code",
   "execution_count": 64,
   "id": "91cda0fd-e970-4922-ada6-32f9e5118d98",
   "metadata": {},
   "outputs": [],
   "source": [
    "np.savez(\"demos.npz\", **kwds)"
   ]
  },
  {
   "cell_type": "code",
   "execution_count": 65,
   "id": "381199b3-7c88-48ed-b19b-c4ab7d748860",
   "metadata": {},
   "outputs": [],
   "source": [
    "#np.savez(\"demos.npz\", n_axes, n_rgb, n_seg_center, n_xyz, kwds)"
   ]
  },
  {
   "cell_type": "code",
   "execution_count": 66,
   "id": "28360f84-49f8-4247-a259-9340cd785723",
   "metadata": {},
   "outputs": [],
   "source": [
    "#[*kwds]"
   ]
  },
  {
   "cell_type": "code",
   "execution_count": null,
   "id": "cc236358-ccdc-49c5-ad72-9910ee3253bd",
   "metadata": {},
   "outputs": [],
   "source": []
  },
  {
   "cell_type": "code",
   "execution_count": 67,
   "id": "3d92fd94-1ef9-42d8-b416-6456d17b1f2a",
   "metadata": {},
   "outputs": [],
   "source": [
    "# Verification"
   ]
  },
  {
   "cell_type": "code",
   "execution_count": 68,
   "id": "a5c06787-7408-4ca3-8dd6-dbd9a27c9974",
   "metadata": {},
   "outputs": [],
   "source": [
    "with np.load('demos.npz') as data:\n",
    "    axes = data['axes']\n",
    "    rgb = data['rgb']\n",
    "    seg_center = data['seg_center']\n",
    "    xyz = data['xyz']"
   ]
  },
  {
   "cell_type": "code",
   "execution_count": 69,
   "id": "d82e9ab9-3640-4650-a49b-f32553615132",
   "metadata": {},
   "outputs": [
    {
     "data": {
      "text/plain": [
       "(3, 3, 9)"
      ]
     },
     "execution_count": 69,
     "metadata": {},
     "output_type": "execute_result"
    }
   ],
   "source": [
    "np.shape(axes)"
   ]
  },
  {
   "cell_type": "code",
   "execution_count": 70,
   "id": "c5eb6397-1d80-4375-8b53-2cff2e02bde1",
   "metadata": {},
   "outputs": [
    {
     "data": {
      "text/plain": [
       "(3, 3, 128, 3)"
      ]
     },
     "execution_count": 70,
     "metadata": {},
     "output_type": "execute_result"
    }
   ],
   "source": [
    "np.shape(rgb)"
   ]
  },
  {
   "cell_type": "code",
   "execution_count": 71,
   "id": "bc4ef9ba-050c-4541-904a-ae714a115f7d",
   "metadata": {},
   "outputs": [
    {
     "data": {
      "text/plain": [
       "(3, 3, 3)"
      ]
     },
     "execution_count": 71,
     "metadata": {},
     "output_type": "execute_result"
    }
   ],
   "source": [
    "np.shape(seg_center)"
   ]
  },
  {
   "cell_type": "code",
   "execution_count": 72,
   "id": "77926e48-aa8e-41fc-9be9-656bb4bc98b1",
   "metadata": {},
   "outputs": [
    {
     "data": {
      "text/plain": [
       "(3, 3, 128, 3)"
      ]
     },
     "execution_count": 72,
     "metadata": {},
     "output_type": "execute_result"
    }
   ],
   "source": [
    "np.shape(xyz)"
   ]
  },
  {
   "cell_type": "code",
   "execution_count": null,
   "id": "99b2d3a9-9760-4ed3-ae72-cb6aac1ed6c5",
   "metadata": {},
   "outputs": [],
   "source": []
  },
  {
   "cell_type": "code",
   "execution_count": null,
   "id": "4ff8ffab-830b-490c-8785-423206a3f4ed",
   "metadata": {},
   "outputs": [],
   "source": []
  },
  {
   "cell_type": "code",
   "execution_count": null,
   "id": "b015dbeb-495e-4e51-9c3e-b5c0ddcba9f5",
   "metadata": {},
   "outputs": [],
   "source": []
  },
  {
   "cell_type": "code",
   "execution_count": null,
   "id": "15cab3d9-77da-4d27-8faa-f58ae992b15a",
   "metadata": {},
   "outputs": [],
   "source": []
  },
  {
   "cell_type": "code",
   "execution_count": null,
   "id": "5452ac2c-7784-447e-8f7f-026a3d28833f",
   "metadata": {},
   "outputs": [],
   "source": []
  },
  {
   "cell_type": "code",
   "execution_count": null,
   "id": "47db9496-ad43-494c-9f8c-3632bd0bfe34",
   "metadata": {},
   "outputs": [],
   "source": []
  }
 ],
 "metadata": {
  "kernelspec": {
   "display_name": "venv",
   "language": "python",
   "name": "python3"
  },
  "language_info": {
   "codemirror_mode": {
    "name": "ipython",
    "version": 3
   },
   "file_extension": ".py",
   "mimetype": "text/x-python",
   "name": "python",
   "nbconvert_exporter": "python",
   "pygments_lexer": "ipython3",
   "version": "3.12.1"
  }
 },
 "nbformat": 4,
 "nbformat_minor": 5
}
